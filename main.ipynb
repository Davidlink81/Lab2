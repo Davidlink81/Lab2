{
 "cells": [
  {
   "cell_type": "markdown",
   "metadata": {},
   "source": [
    "## Words"
   ]
  },
  {
   "cell_type": "code",
   "execution_count": 1,
   "metadata": {},
   "outputs": [],
   "source": [
    "words = ['play', 'filling', 'bar', 'theatre', 'easygoing', 'date', 'lead', 'that', 'story',  'island']"
   ]
  },
  {
   "cell_type": "markdown",
   "metadata": {},
   "source": [
    "**Print every word in upper case**"
   ]
  },
  {
   "cell_type": "code",
   "execution_count": 9,
   "metadata": {},
   "outputs": [
    {
     "name": "stdout",
     "output_type": "stream",
     "text": [
      "PLAY\n",
      "FILLING\n",
      "BAR\n",
      "THEATRE\n",
      "EASYGOING\n",
      "DATE\n",
      "LEAD\n",
      "THAT\n",
      "STORY\n",
      "ISLAND\n"
     ]
    }
   ],
   "source": [
    "# Vamos a imprimir en pantalla con el digo upper para convertir todos los caracteres en mayúsculas\n",
    "for word in words:\n",
    "    print(word.upper())"
   ]
  },
  {
   "cell_type": "markdown",
   "metadata": {},
   "source": [
    "**Create a new list containing only words with 5 or more letters**"
   ]
  },
  {
   "cell_type": "code",
   "execution_count": 23,
   "metadata": {},
   "outputs": [
    {
     "name": "stdout",
     "output_type": "stream",
     "text": [
      "Estas son las palabras que tienen 5 o más letras: ['filling', 'theatre', 'easygoing', 'story', 'island']\n"
     ]
    }
   ],
   "source": [
    "# Vamos a crear una nueva lista que contenga las palabras con 5 o más letras.\n",
    "\n",
    "#Primero vamos a crear una nueva lista vacía que contenga las palabras que tengan 5 o más letras\n",
    "words_5 = []\n",
    "\n",
    "#Ahora vamos a buscar dentro de la lista las palabras que tengan 5 o más letras\n",
    "for word in words:\n",
    "    if len(word) >= 5:\n",
    "        words_5.append(word)\n",
    "        \n",
    "print(\"Estas son las palabras que tienen 5 o más letras:\", words_5)"
   ]
  },
  {
   "cell_type": "markdown",
   "metadata": {},
   "source": [
    "**Print the first word starting with \"t\"**"
   ]
  },
  {
   "cell_type": "code",
   "execution_count": 31,
   "metadata": {
    "tags": []
   },
   "outputs": [
    {
     "name": "stdout",
     "output_type": "stream",
     "text": [
      "First word starting with 't': theatre\n",
      "First word starting with 't': that\n"
     ]
    }
   ],
   "source": [
    "for word in words:\n",
    "    if word.startswith(\"t\"):\n",
    "        print(\"First word starting with 't':\", word)"
   ]
  },
  {
   "cell_type": "code",
   "execution_count": 34,
   "metadata": {},
   "outputs": [
    {
     "name": "stdout",
     "output_type": "stream",
     "text": [
      "Estas es la primera palabra que tienen la letra t: theatre\n"
     ]
    }
   ],
   "source": [
    "# Vamos a imprimir la primera palabra que empice por \"t\"\n",
    "\n",
    "# Buscamos en la lista word cual es la primera palabra con la letra \"t\". Lo realizaremos con un codigo for.\n",
    "\n",
    "for word in words:\n",
    "    if word.startswith(\"t\"):\n",
    "        print(\"Estas es la primera palabra que tienen la letra t:\", word)\n",
    "        break #el codigo break no permite para el bucle cuando ya ha encontrado la primera palabra que empieza por t"
   ]
  },
  {
   "cell_type": "markdown",
   "metadata": {},
   "source": [
    "## Numbers"
   ]
  },
  {
   "cell_type": "markdown",
   "metadata": {},
   "source": [
    "**Create a list containing the square of every number from 1 to 10**"
   ]
  },
  {
   "cell_type": "code",
   "execution_count": 45,
   "metadata": {},
   "outputs": [
    {
     "name": "stdout",
     "output_type": "stream",
     "text": [
      "La lista de cuadrados es: [1, 4, 9, 16, 25, 36, 49, 64, 81, 100]\n",
      "La lista de cuadrados es: [1, 4, 9, 16, 25, 36, 49, 64, 81, 100]\n"
     ]
    }
   ],
   "source": [
    "#Vamos a crear una lista que obtenga el cuadrado de cada número del 1 al 10\n",
    "#Manera 1 - Definiendo yo la lista previamente.\n",
    "#Primero definimos la lista del 1 al 10\n",
    "lista = [1, 2, 3, 4, 5, 6, 7, 8, 9, 10]\n",
    "\n",
    "#Una vez definida la lista vamos a crear una nueva lista que nos devuelva el cuadrado de cada número.\n",
    "square = [x**2 for x in lista]\n",
    "\n",
    "print(\"La lista de cuadrados es:\" , square)\n",
    "\n",
    "#Manera 2. Podemos tambien realizarlo con la función range, así podemos marcar un rango y no tener que crear la lista si fuera muy grande.\n",
    "square = [x**2 for x in range(1,11)]\n",
    "\n",
    "print(\"La lista de los números al cuadrado es:\" , square)\n"
   ]
  },
  {
   "cell_type": "markdown",
   "metadata": {},
   "source": [
    "**Print a list containing the square of every odd number from 1 to 10**"
   ]
  },
  {
   "cell_type": "code",
   "execution_count": 69,
   "metadata": {},
   "outputs": [
    {
     "name": "stdout",
     "output_type": "stream",
     "text": [
      "La lista de los números imapres cuadrados es: [1, 9, 25, 49, 81]\n",
      "La lista de los números imapres cuadrados es: [1, 9, 25, 49, 81]\n"
     ]
    }
   ],
   "source": [
    "#Vamos a crear una lista que nos imprima los cuadrados de los números imapares\n",
    "#Manera1\n",
    "#Primero definimos la lista del 1 al 10\n",
    "lista = [1, 2, 3, 4, 5, 6, 7, 8, 9, 10]\n",
    "\n",
    "#nueva lista:\n",
    "odd_square = []\n",
    "\n",
    "#Una vez definida la lista vamos a crear una nueva lista que nos devuelva el cuadrado de cada número impar.\n",
    "for x in lista:\n",
    "    if x % 2 != 0:\n",
    "        odd_square.append(x**2)\n",
    "\n",
    "print(\"La lista de los números imapres cuadrados es:\" , square)\n",
    "\n",
    "#Manera 2. Podemos tambien realizarlo con la función range, al igual que en el ejercio anterior.   \n",
    "square = [x**2 for x in range(1,11) if x % 2 != 0]    \n",
    "print(\"La lista de los números imapres cuadrados es:\" , square)\n",
    "\n"
   ]
  },
  {
   "cell_type": "markdown",
   "metadata": {},
   "source": [
    "**Create a list with the squares of all multiples of 8 below 1000**"
   ]
  },
  {
   "cell_type": "code",
   "execution_count": 76,
   "metadata": {},
   "outputs": [
    {
     "name": "stdout",
     "output_type": "stream",
     "text": [
      "La lista de los cuadrados multiplos de 8 por debajo de 1000 es: [64, 256, 576, 1024, 1600, 2304, 3136, 4096, 5184, 6400, 7744, 9216, 10816, 12544, 14400, 16384, 18496, 20736, 23104, 25600, 28224, 30976, 33856, 36864, 40000, 43264, 46656, 50176, 53824, 57600, 61504, 65536, 69696, 73984, 78400, 82944, 87616, 92416, 97344, 102400, 107584, 112896, 118336, 123904, 129600, 135424, 141376, 147456, 153664, 160000, 166464, 173056, 179776, 186624, 193600, 200704, 207936, 215296, 222784, 230400, 238144, 246016, 254016, 262144, 270400, 278784, 287296, 295936, 304704, 313600, 322624, 331776, 341056, 350464, 360000, 369664, 379456, 389376, 399424, 409600, 419904, 430336, 440896, 451584, 462400, 473344, 484416, 495616, 506944, 518400, 529984, 541696, 553536, 565504, 577600, 589824, 602176, 614656, 627264, 640000, 652864, 665856, 678976, 692224, 705600, 719104, 732736, 746496, 760384, 774400, 788544, 802816, 817216, 831744, 846400, 861184, 876096, 891136, 906304, 921600, 937024, 952576, 968256, 984064, 1000000]\n"
     ]
    }
   ],
   "source": [
    "#Podemos también realizarlo con la función range, al igual que en el ejercio anterior. Ya que la función range nos permite marcar un rango y ademas d\n",
    "\n",
    "multiples_8 = [x**2 for x in range(8,1001,8)]  \n",
    "print(\"La lista de los cuadrados multiplos de 8 por debajo de 1000 es:\" , multiples_8)"
   ]
  },
  {
   "cell_type": "markdown",
   "metadata": {},
   "source": [
    "## People"
   ]
  },
  {
   "cell_type": "code",
   "execution_count": 78,
   "metadata": {},
   "outputs": [],
   "source": [
    "people = [\n",
    "    {\n",
    "        \"name\": \"Juan\",\n",
    "        \"age\": 34,\n",
    "        \"n_kids\": 2\n",
    "    },\n",
    "    {\n",
    "        \"name\": \"Pepe\",\n",
    "        \"age\": 27,\n",
    "        \"n_kids\": 0\n",
    "    },\n",
    "    {\n",
    "        \"name\": \"Sonia\",\n",
    "        \"age\": 41,\n",
    "        \"n_kids\": 1\n",
    "    },\n",
    "    {\n",
    "        \"name\": \"Lucía\",\n",
    "        \"age\": 22,\n",
    "        \"n_kids\": 2\n",
    "    },\n",
    "    {\n",
    "        \"name\": \"Leo\",\n",
    "        \"age\": 55,\n",
    "        \"n_kids\": 5\n",
    "    }\n",
    "]"
   ]
  },
  {
   "cell_type": "markdown",
   "metadata": {},
   "source": [
    "**How many people are there?**"
   ]
  },
  {
   "cell_type": "code",
   "execution_count": 82,
   "metadata": {},
   "outputs": [
    {
     "name": "stdout",
     "output_type": "stream",
     "text": [
      "El número de personas es: 5\n"
     ]
    }
   ],
   "source": [
    "#Vamos a contar el número de personas, o lo que es lo mismo la longitd del diccionario. Para ello vamos a usar la función le\n",
    "número_personas = len(people)\n",
    "print(\"El número de personas es:\",número_personas)"
   ]
  },
  {
   "cell_type": "markdown",
   "metadata": {},
   "source": [
    "**How many people have kids**?"
   ]
  },
  {
   "cell_type": "code",
   "execution_count": 104,
   "metadata": {},
   "outputs": [
    {
     "name": "stdout",
     "output_type": "stream",
     "text": [
      "El número de personas que tiene hijos es: 1\n",
      "El número de personas que tiene hijos es: 2\n",
      "El número de personas que tiene hijos es: 3\n",
      "El número de personas que tiene hijos es: 4\n",
      "El número de personas que tiene hijos es: 4\n"
     ]
    }
   ],
   "source": [
    "#Vamos a contar el número de personas que tienen hijos.\n",
    "personas_con_hijos = 0 #He iniciado con una variable para llevar el recuento.\n",
    "for persona in people:\n",
    "    if persona[\"n_kids\"] > 0:\n",
    "        personas_con_hijos +=1\n",
    "        print(\"El número de personas que tiene hijos es:\" , personas_con_hijos)\n",
    "\n",
    "        \n",
    "#He probado esta segunda manera porque no se cual es el problema en la primera opción de código.\n",
    "persona_con_hijos = sum(1 for persona in people if persona[\"n_kids\"] > 0)\n",
    "print(\"El número de personas que tiene hijos es:\" , persona_con_hijos)"
   ]
  },
  {
   "cell_type": "markdown",
   "metadata": {},
   "source": [
    "**How many kids do they have in total?**"
   ]
  },
  {
   "cell_type": "code",
   "execution_count": 116,
   "metadata": {},
   "outputs": [
    {
     "name": "stdout",
     "output_type": "stream",
     "text": [
      "El número de niños es: 10\n"
     ]
    }
   ],
   "source": [
    "#Vamos a contar el número de niños\n",
    "número_niños = 0\n",
    "for persona in people:\n",
    "    if persona[\"n_kids\"] > 0:\n",
    "        número_niños += persona[\"n_kids\"]\n",
    "    \n",
    "print(\"El número de niños es:\" , número_niños)\n",
    "    "
   ]
  },
  {
   "cell_type": "markdown",
   "metadata": {},
   "source": [
    "**In a year's time, names ending with \"a\" will have an extra kid. Create a list of dictionaries with people's info in a year's time**"
   ]
  },
  {
   "cell_type": "code",
   "execution_count": 125,
   "metadata": {},
   "outputs": [
    {
     "name": "stdout",
     "output_type": "stream",
     "text": [
      "{'name': 'Juan', 'age': 35, 'n_kids': 2}\n",
      "{'name': 'Pepe', 'age': 28, 'n_kids': 0}\n",
      "{'name': 'Sonia', 'age': 42, 'n_kids': 2}\n",
      "{'name': 'Lucía', 'age': 23, 'n_kids': 3}\n",
      "{'name': 'Leo', 'age': 56, 'n_kids': 5}\n"
     ]
    }
   ],
   "source": [
    "#Creamos una nueva lista actualizada\n",
    "lista_actualizada_1_año = []\n",
    "\n",
    "\n",
    "for persona in people:\n",
    "    #Realizamos una cópia del diccionario actual\n",
    "    actualiza_persona = persona.copy()\n",
    "    #Aumentamos la edad 1 año\n",
    "    actualiza_persona[\"age\"] += 1 \n",
    "    \n",
    "    #Si el nombre termina en a, le agreagamos un hijo extra\n",
    "    if persona[\"name\"].endswith(\"a\"):\n",
    "        actualiza_persona[\"n_kids\"] += 1\n",
    "    \n",
    "    #Agregamos a la lista actualizada la actualización\n",
    "    lista_actualizada_1_año.append(actualiza_persona)\n",
    "    \n",
    "for actualiza_persona in lista_actualizada_1_año:\n",
    "    print(actualiza_persona)"
   ]
  },
  {
   "cell_type": "code",
   "execution_count": null,
   "metadata": {},
   "outputs": [],
   "source": []
  }
 ],
 "metadata": {
  "kernelspec": {
   "display_name": "Python 3 (ipykernel)",
   "language": "python",
   "name": "python3"
  },
  "language_info": {
   "codemirror_mode": {
    "name": "ipython",
    "version": 3
   },
   "file_extension": ".py",
   "mimetype": "text/x-python",
   "name": "python",
   "nbconvert_exporter": "python",
   "pygments_lexer": "ipython3",
   "version": "3.11.5"
  },
  "toc": {
   "base_numbering": 1,
   "nav_menu": {},
   "number_sections": false,
   "sideBar": true,
   "skip_h1_title": false,
   "title_cell": "Table of Contents",
   "title_sidebar": "Contents",
   "toc_cell": false,
   "toc_position": {},
   "toc_section_display": true,
   "toc_window_display": true
  },
  "varInspector": {
   "cols": {
    "lenName": 16,
    "lenType": 16,
    "lenVar": 40
   },
   "kernels_config": {
    "python": {
     "delete_cmd_postfix": "",
     "delete_cmd_prefix": "del ",
     "library": "var_list.py",
     "varRefreshCmd": "print(var_dic_list())"
    },
    "r": {
     "delete_cmd_postfix": ") ",
     "delete_cmd_prefix": "rm(",
     "library": "var_list.r",
     "varRefreshCmd": "cat(var_dic_list()) "
    }
   },
   "types_to_exclude": [
    "module",
    "function",
    "builtin_function_or_method",
    "instance",
    "_Feature"
   ],
   "window_display": false
  },
  "vscode": {
   "interpreter": {
    "hash": "aee8b7b246df8f9039afb4144a1f6fd8d2ca17a180786b69acc140d282b71a49"
   }
  }
 },
 "nbformat": 4,
 "nbformat_minor": 4
}
